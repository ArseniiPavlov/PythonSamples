{
 "cells": [
  {
   "cell_type": "code",
   "execution_count": 51,
   "metadata": {},
   "outputs": [],
   "source": [
    "import numpy as np\n",
    "from sklearn.datasets import load_digits\n",
    "from sklearn.metrics import accuracy_score\n",
    "from sklearn.neighbors import BallTree\n",
    "from sklearn.ensemble import RandomForestClassifier\n",
    "from __future__ import division\n",
    "import matplotlib.pyplot as plt"
   ]
  },
  {
   "cell_type": "code",
   "execution_count": 8,
   "metadata": {
    "collapsed": true
   },
   "outputs": [],
   "source": [
    "data = load_digits()\n",
    "X = data.data\n",
    "y = data.target"
   ]
  },
  {
   "cell_type": "code",
   "execution_count": 9,
   "metadata": {
    "collapsed": true
   },
   "outputs": [],
   "source": [
    "X_train = X[:int(X.shape[0] * 0.75)][:]\n",
    "X_test = X[int(X.shape[0] * 0.75):][:]\n",
    "y_train = y[:int(X.shape[0] * 0.75)]\n",
    "y_test = y[int(X.shape[0] * 0.75):]"
   ]
  },
  {
   "cell_type": "code",
   "execution_count": 10,
   "metadata": {},
   "outputs": [
    {
     "name": "stdout",
     "output_type": "stream",
     "text": [
      "(1347L, 64L)\n",
      "(450L, 64L)\n",
      "(1347L,)\n",
      "(450L,)\n"
     ]
    }
   ],
   "source": [
    "print X_train.shape\n",
    "print X_test.shape\n",
    "print y_train.shape\n",
    "print y_test.shape"
   ]
  },
  {
   "cell_type": "code",
   "execution_count": 49,
   "metadata": {},
   "outputs": [
    {
     "name": "stdout",
     "output_type": "stream",
     "text": [
      "Wall time: 40 ms\n"
     ]
    }
   ],
   "source": [
    "%%time\n",
    "tree = BallTree(X_train, leaf_size=50)\n",
    "ind = tree.query(X_test, return_distance=False)"
   ]
  },
  {
   "cell_type": "code",
   "execution_count": 40,
   "metadata": {},
   "outputs": [],
   "source": [
    "y_test_predicted = y_train[ind]\n",
    "nn_score = accuracy_score(y_test, y_test_predicted)"
   ]
  },
  {
   "cell_type": "code",
   "execution_count": 21,
   "metadata": {
    "collapsed": true
   },
   "outputs": [],
   "source": [
    "def distance(x1, x2):\n",
    "    dist = 0\n",
    "    for i in xrange(len(x1)):\n",
    "        dist = dist + (x1[i] - x2[i]) ** 2\n",
    "    return dist"
   ]
  },
  {
   "cell_type": "code",
   "execution_count": 43,
   "metadata": {},
   "outputs": [
    {
     "name": "stdout",
     "output_type": "stream",
     "text": [
      "Wall time: 14.4 s\n"
     ]
    }
   ],
   "source": [
    "%%time\n",
    "indices = []\n",
    "for x in X_test:\n",
    "    dist = distance(x, X_train[0])\n",
    "    itr = 0\n",
    "    for x_t in X_train:\n",
    "        if distance(x, x_t) <= dist:\n",
    "            index = itr\n",
    "            dist = distance(x, x_t)\n",
    "        itr += 1\n",
    "    indices.append(index)"
   ]
  },
  {
   "cell_type": "code",
   "execution_count": 44,
   "metadata": {
    "collapsed": true
   },
   "outputs": [],
   "source": [
    "y_test_predicted = y_train[indices]\n",
    "nn_slow_score = accuracy_score(y_test, y_test_predicted)\n",
    "with open('ans1_NN.txt', 'w') as fout:\n",
    "    fout.write(str(1-nn_slow_score))"
   ]
  },
  {
   "cell_type": "code",
   "execution_count": 45,
   "metadata": {},
   "outputs": [
    {
     "name": "stdout",
     "output_type": "stream",
     "text": [
      "nn_score = 0.962222222222\n",
      "nn_slow_score = 0.962222222222\n"
     ]
    }
   ],
   "source": [
    "print 'nn_score =', nn_score\n",
    "print 'nn_slow_score =', nn_slow_score"
   ]
  },
  {
   "cell_type": "code",
   "execution_count": 54,
   "metadata": {},
   "outputs": [
    {
     "name": "stdout",
     "output_type": "stream",
     "text": [
      "nn_forest_score = 0.935555555556\n",
      "Wall time: 2.67 s\n"
     ]
    }
   ],
   "source": [
    "%%time\n",
    "estimator = RandomForestClassifier(n_estimators=1000)\n",
    "estimator.fit(X_train, y_train)\n",
    "y_test_predicted = estimator.predict(X_test)\n",
    "nn_forest_score = accuracy_score(y_test, y_test_predicted)\n",
    "with open('ans2_NN.txt', 'w') as fout:\n",
    "    fout.write(str(1-nn_forest_score))\n",
    "print 'nn_forest_score =', nn_forest_score    "
   ]
  },
  {
   "cell_type": "code",
   "execution_count": null,
   "metadata": {
    "collapsed": true
   },
   "outputs": [],
   "source": []
  }
 ],
 "metadata": {
  "kernelspec": {
   "display_name": "Python 2",
   "language": "python",
   "name": "python2"
  },
  "language_info": {
   "codemirror_mode": {
    "name": "ipython",
    "version": 2
   },
   "file_extension": ".py",
   "mimetype": "text/x-python",
   "name": "python",
   "nbconvert_exporter": "python",
   "pygments_lexer": "ipython2",
   "version": "2.7.14"
  }
 },
 "nbformat": 4,
 "nbformat_minor": 2
}
