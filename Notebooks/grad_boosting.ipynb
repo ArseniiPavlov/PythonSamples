{
 "cells": [
  {
   "cell_type": "code",
   "execution_count": 1,
   "metadata": {},
   "outputs": [
    {
     "name": "stderr",
     "output_type": "stream",
     "text": [
      "C:\\Users\\User\\Anaconda2\\lib\\site-packages\\sklearn\\cross_validation.py:41: DeprecationWarning: This module was deprecated in version 0.18 in favor of the model_selection module into which all the refactored classes and functions are moved. Also note that the interface of the new CV iterators are different from that of this module. This module will be removed in 0.20.\n",
      "  \"This module will be removed in 0.20.\", DeprecationWarning)\n"
     ]
    }
   ],
   "source": [
    "import numpy as np\n",
    "import xgboost as xgb\n",
    "from sklearn.datasets import load_boston\n",
    "from sklearn.tree import DecisionTreeRegressor\n",
    "from sklearn.model_selection import cross_val_score,  train_test_split\n",
    "from sklearn.metrics import mean_squared_error\n",
    "from sklearn.linear_model import LinearRegression\n",
    "from __future__ import division\n",
    "import matplotlib.pyplot as plt"
   ]
  },
  {
   "cell_type": "code",
   "execution_count": 2,
   "metadata": {},
   "outputs": [
    {
     "name": "stdout",
     "output_type": "stream",
     "text": [
      "Populating the interactive namespace from numpy and matplotlib\n"
     ]
    }
   ],
   "source": [
    "%pylab inline"
   ]
  },
  {
   "cell_type": "code",
   "execution_count": 3,
   "metadata": {
    "collapsed": true
   },
   "outputs": [],
   "source": [
    "data = load_boston()\n",
    "X = data.data\n",
    "y = data.target"
   ]
  },
  {
   "cell_type": "code",
   "execution_count": 4,
   "metadata": {
    "collapsed": true
   },
   "outputs": [],
   "source": [
    "X_train = X[:int(X.shape[0] * 0.75)][:]\n",
    "X_test = X[int(X.shape[0] * 0.75):][:]\n",
    "y_train = y[:int(X.shape[0] * 0.75)]\n",
    "y_test = y[int(X.shape[0] * 0.75):]"
   ]
  },
  {
   "cell_type": "code",
   "execution_count": 5,
   "metadata": {},
   "outputs": [
    {
     "name": "stdout",
     "output_type": "stream",
     "text": [
      "(379L, 13L)\n",
      "(127L, 13L)\n",
      "(379L,)\n",
      "(127L,)\n"
     ]
    }
   ],
   "source": [
    "print X_train.shape\n",
    "print X_test.shape\n",
    "print y_train.shape\n",
    "print y_test.shape"
   ]
  },
  {
   "cell_type": "code",
   "execution_count": 6,
   "metadata": {},
   "outputs": [
    {
     "name": "stdout",
     "output_type": "stream",
     "text": [
      "Boston House Prices dataset\n",
      "===========================\n",
      "\n",
      "Notes\n",
      "------\n",
      "Data Set Characteristics:  \n",
      "\n",
      "    :Number of Instances: 506 \n",
      "\n",
      "    :Number of Attributes: 13 numeric/categorical predictive\n",
      "    \n",
      "    :Median Value (attribute 14) is usually the target\n",
      "\n",
      "    :Attribute Information (in order):\n",
      "        - CRIM     per capita crime rate by town\n",
      "        - ZN       proportion of residential land zoned for lots over 25,000 sq.ft.\n",
      "        - INDUS    proportion of non-retail business acres per town\n",
      "        - CHAS     Charles River dummy variable (= 1 if tract bounds river; 0 otherwise)\n",
      "        - NOX      nitric oxides concentration (parts per 10 million)\n",
      "        - RM       average number of rooms per dwelling\n",
      "        - AGE      proportion of owner-occupied units built prior to 1940\n",
      "        - DIS      weighted distances to five Boston employment centres\n",
      "        - RAD      index of accessibility to radial highways\n",
      "        - TAX      full-value property-tax rate per $10,000\n",
      "        - PTRATIO  pupil-teacher ratio by town\n",
      "        - B        1000(Bk - 0.63)^2 where Bk is the proportion of blacks by town\n",
      "        - LSTAT    % lower status of the population\n",
      "        - MEDV     Median value of owner-occupied homes in $1000's\n",
      "\n",
      "    :Missing Attribute Values: None\n",
      "\n",
      "    :Creator: Harrison, D. and Rubinfeld, D.L.\n",
      "\n",
      "This is a copy of UCI ML housing dataset.\n",
      "http://archive.ics.uci.edu/ml/datasets/Housing\n",
      "\n",
      "\n",
      "This dataset was taken from the StatLib library which is maintained at Carnegie Mellon University.\n",
      "\n",
      "The Boston house-price data of Harrison, D. and Rubinfeld, D.L. 'Hedonic\n",
      "prices and the demand for clean air', J. Environ. Economics & Management,\n",
      "vol.5, 81-102, 1978.   Used in Belsley, Kuh & Welsch, 'Regression diagnostics\n",
      "...', Wiley, 1980.   N.B. Various transformations are used in the table on\n",
      "pages 244-261 of the latter.\n",
      "\n",
      "The Boston house-price data has been used in many machine learning papers that address regression\n",
      "problems.   \n",
      "     \n",
      "**References**\n",
      "\n",
      "   - Belsley, Kuh & Welsch, 'Regression diagnostics: Identifying Influential Data and Sources of Collinearity', Wiley, 1980. 244-261.\n",
      "   - Quinlan,R. (1993). Combining Instance-Based and Model-Based Learning. In Proceedings on the Tenth International Conference of Machine Learning, 236-243, University of Massachusetts, Amherst. Morgan Kaufmann.\n",
      "   - many more! (see http://archive.ics.uci.edu/ml/datasets/Housing)\n",
      "\n"
     ]
    }
   ],
   "source": [
    "print data.DESCR"
   ]
  },
  {
   "cell_type": "code",
   "execution_count": 7,
   "metadata": {},
   "outputs": [],
   "source": [
    "def gbm_predict(X, base_algorithms_list, coefficients_list):\n",
    "    return [sum([coeff * algo.predict([x])[0] for algo, coeff in zip(base_algorithms_list, coefficients_list)]) for x in X]\n",
    "\n",
    "def construct_boost_stack(X_train, y_train, coefficients_list):\n",
    "    boost_stack = []\n",
    "    a = y_train\n",
    "    for step in coefficients_list:\n",
    "        estimator = DecisionTreeRegressor(max_depth=5, random_state=42)\n",
    "        estimator.fit(X_train, a)\n",
    "        boost_stack.append(estimator)\n",
    "        a = -(gbm_predict(X_train, boost_stack, coefficients_list)-y_train) \n",
    "    return boost_stack"
   ]
  },
  {
   "cell_type": "code",
   "execution_count": 8,
   "metadata": {},
   "outputs": [],
   "source": [
    "coeffs = np.array([0.9] * 50)\n",
    "boost_stack50 = construct_boost_stack(X_train, y_train, coeffs)\n",
    "\n",
    "MSE = mean_squared_error(y_test, gbm_predict(X_test, boost_stack50, coeffs))\n",
    "RMSE = MSE ** 0.5\n",
    "\n",
    "with open('ans2.txt', 'w') as foutput:\n",
    "    foutput.write(str(RMSE))"
   ]
  },
  {
   "cell_type": "code",
   "execution_count": 9,
   "metadata": {
    "collapsed": true
   },
   "outputs": [],
   "source": [
    "coeffs = np.array(list(0.9 / (1.0 + i) for i in xrange(50)))\n",
    "boost_stack50_biased = construct_boost_stack(X_train, y_train, coeffs)\n",
    "\n",
    "MSE = mean_squared_error(y_test, gbm_predict(X_test, boost_stack50_biased, coeffs))\n",
    "RMSE = MSE ** 0.5\n",
    "\n",
    "with open('ans3.txt', 'w') as foutput:\n",
    "    foutput.write(str(RMSE))"
   ]
  },
  {
   "cell_type": "code",
   "execution_count": 10,
   "metadata": {},
   "outputs": [],
   "source": [
    "trees = np.arange(1, 500, 50)\n",
    "depths = np.arange(1, 100)\n",
    "RMSE_trees = []\n",
    "RMSE_depths = []\n",
    "\n",
    "for tree in trees:\n",
    "    estimator = xgb.XGBRegressor(max_depth=2, learning_rate=1, n_estimators=tree)\n",
    "    estimator.fit(X_train, y_train)\n",
    "    RMSE = mean_squared_error(y_test, estimator.predict(X_test)) ** 0.5\n",
    "    RMSE_trees.append(RMSE)   \n",
    "    \n",
    "for depth in depths:\n",
    "    estimator = xgb.XGBRegressor(max_depth=depth, learning_rate=1, n_estimators=50)\n",
    "    estimator.fit(X_train, y_train)\n",
    "    RMSE = mean_squared_error(y_test, estimator.predict(X_test)) ** 0.5\n",
    "    RMSE_depths.append(RMSE)"
   ]
  },
  {
   "cell_type": "code",
   "execution_count": 11,
   "metadata": {},
   "outputs": [
    {
     "data": {
      "text/plain": [
       "[<matplotlib.lines.Line2D at 0xf540a90>]"
      ]
     },
     "execution_count": 11,
     "metadata": {},
     "output_type": "execute_result"
    },
    {
     "data": {
      "image/png": "[encoded data removed]",
      "text/plain": [
       "<matplotlib.figure.Figure at 0xf4386d8>"
      ]
     },
     "metadata": {},
     "output_type": "display_data"
    }
   ],
   "source": [
    "plt.figure(figsize(10,5))\n",
    "\n",
    "plt.subplot(1,2,1)\n",
    "plt.title('Number of trees')\n",
    "plt.xlabel('Trees')\n",
    "plt.ylabel('RMSE')\n",
    "plt.plot(trees, RMSE_trees)\n",
    "\n",
    "plt.subplot(1,2,2)\n",
    "plt.title('Max depth')\n",
    "plt.xlabel('Depth')\n",
    "plt.ylabel('RMSE')\n",
    "plt.plot(depths, RMSE_depths)"
   ]
  },
  {
   "cell_type": "code",
   "execution_count": 12,
   "metadata": {
    "collapsed": true
   },
   "outputs": [],
   "source": [
    "linreg = LinearRegression()\n",
    "linreg.fit(X_train, y_train)\n",
    "RMSE = mean_squared_error(y_test, linreg.predict(X_test)) ** 0.5\n",
    "with open('ans5.txt', 'w') as foutput:\n",
    "    foutput.write(str(RMSE))"
   ]
  }
 ],
 "metadata": {
  "kernelspec": {
   "display_name": "Python 2",
   "language": "python",
   "name": "python2"
  },
  "language_info": {
   "codemirror_mode": {
    "name": "ipython",
    "version": 2
   },
   "file_extension": ".py",
   "mimetype": "text/x-python",
   "name": "python",
   "nbconvert_exporter": "python",
   "pygments_lexer": "ipython2",
   "version": "2.7.14"
  }
 },
 "nbformat": 4,
 "nbformat_minor": 1
}
